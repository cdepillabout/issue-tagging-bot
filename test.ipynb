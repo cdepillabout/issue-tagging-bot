{
 "cells": [
  {
   "cell_type": "markdown",
   "metadata": {},
   "source": [
    "Install PyGithub because it doesn't exist in the docker container by default."
   ]
  },
  {
   "cell_type": "code",
   "execution_count": null,
   "metadata": {},
   "outputs": [],
   "source": [
    "import sys\n",
    "!{sys.executable} -m pip install PyGithub"
   ]
  },
  {
   "cell_type": "code",
   "execution_count": 1,
   "metadata": {},
   "outputs": [],
   "source": [
    "%load_ext autoreload\n",
    "%autoreload 2"
   ]
  },
  {
   "cell_type": "code",
   "execution_count": 2,
   "metadata": {},
   "outputs": [],
   "source": [
    "import numpy as np\n",
    "import tensorflow as tf\n",
    "\n",
    "from issue_tagging_bot.issue_data import Stage1PreprocData, Stage2PreprocData"
   ]
  },
  {
   "cell_type": "code",
   "execution_count": 3,
   "metadata": {},
   "outputs": [],
   "source": [
    "stage2 = Stage2PreprocData()"
   ]
  },
  {
   "cell_type": "code",
   "execution_count": 4,
   "metadata": {
    "collapsed": true,
    "jupyter": {
     "outputs_hidden": true
    }
   },
   "outputs": [
    {
     "data": {
      "text/plain": [
       "6.topic: TeX                      48\n",
       "6.topic: reproducible builds      49\n",
       "6.topic: rust                     51\n",
       "6.topic: xfce                     59\n",
       "6.topic: steam                    68\n",
       "6.topic: user experience          73\n",
       "6.topic: closure-size            114\n",
       "6.topic: kernel                  115\n",
       "6.topic: cross-compilation       132\n",
       "6.topic: gnome3                  263\n",
       "6.topic: qt/kde                  345\n",
       "6.topic: haskell                 606\n",
       "6.topic: darwin                  610\n",
       "6.topic: python                  813\n",
       "6.topic: nixos                  1169\n",
       "dtype: int64"
      ]
     },
     "execution_count": 4,
     "metadata": {},
     "output_type": "execute_result"
    }
   ],
   "source": [
    "stage2.stage1.top_n_topics()"
   ]
  },
  {
   "cell_type": "code",
   "execution_count": 5,
   "metadata": {},
   "outputs": [],
   "source": [
    "train_set, val_set, test_set = stage2.to_datasets()"
   ]
  },
  {
   "cell_type": "code",
   "execution_count": 14,
   "metadata": {},
   "outputs": [
    {
     "data": {
      "text/plain": [
       "(<tf.Tensor: shape=(15,), dtype=int64, numpy=array([0, 0, 0, 0, 0, 0, 0, 0, 0, 0, 0, 0, 0, 0, 1])>,\n",
       " <tf.Tensor: shape=(), dtype=int32, numpy=79304>)"
      ]
     },
     "execution_count": 14,
     "metadata": {},
     "output_type": "execute_result"
    }
   ],
   "source": [
    "all_test_labels = []\n",
    "all_nums = []\n",
    "for issue_body, labels, num in test_set:\n",
    "    all_test_labels.append(labels)\n",
    "    all_nums.append(num)\n",
    "    \n",
    "first_all_test_labels = all_test_labels[0]\n",
    "first_all_nums = all_nums[0]\n",
    "\n",
    "first_all_test_labels, first_all_nums"
   ]
  },
  {
   "cell_type": "code",
   "execution_count": 7,
   "metadata": {},
   "outputs": [],
   "source": [
    "all_test_labels_tensor = tf.reshape(tf.concat(all_test_labels, axis=0), (-1, stage2.stage1.top_n_topics().shape[0]))"
   ]
  },
  {
   "cell_type": "code",
   "execution_count": 8,
   "metadata": {},
   "outputs": [
    {
     "data": {
      "text/plain": [
       "array([  4,   3,   6,  11,   3,  10,   7,  17,  22,  33,  32,  56,  60,\n",
       "        85, 102])"
      ]
     },
     "execution_count": 8,
     "metadata": {},
     "output_type": "execute_result"
    }
   ],
   "source": [
    "np.sum(all_test_labels_tensor.numpy(), axis=0)"
   ]
  },
  {
   "cell_type": "code",
   "execution_count": 10,
   "metadata": {},
   "outputs": [
    {
     "data": {
      "text/plain": [
       "<tf.Tensor: shape=(15,), dtype=int64, numpy=array([0, 0, 0, 0, 0, 0, 0, 0, 0, 0, 0, 0, 0, 0, 1])>"
      ]
     },
     "execution_count": 10,
     "metadata": {},
     "output_type": "execute_result"
    }
   ],
   "source": [
    "all_test_labels_tensor[0]"
   ]
  },
  {
   "cell_type": "code",
   "execution_count": 12,
   "metadata": {},
   "outputs": [
    {
     "data": {
      "text/plain": [
       "<tf.Tensor: shape=(), dtype=int32, numpy=79304>"
      ]
     },
     "execution_count": 12,
     "metadata": {},
     "output_type": "execute_result"
    }
   ],
   "source": [
    "all_nums[0]"
   ]
  },
  {
   "cell_type": "code",
   "execution_count": 15,
   "metadata": {},
   "outputs": [],
   "source": [
    "X = tf.range(10)"
   ]
  },
  {
   "cell_type": "code",
   "execution_count": 16,
   "metadata": {},
   "outputs": [
    {
     "data": {
      "text/plain": [
       "<tf.Tensor: shape=(10,), dtype=int32, numpy=array([0, 1, 2, 3, 4, 5, 6, 7, 8, 9], dtype=int32)>"
      ]
     },
     "execution_count": 16,
     "metadata": {},
     "output_type": "execute_result"
    }
   ],
   "source": [
    "X"
   ]
  },
  {
   "cell_type": "code",
   "execution_count": 17,
   "metadata": {},
   "outputs": [],
   "source": [
    "dataset = tf.data.Dataset.from_tensor_slices(X)"
   ]
  },
  {
   "cell_type": "code",
   "execution_count": 18,
   "metadata": {},
   "outputs": [
    {
     "data": {
      "text/plain": [
       "<TensorSliceDataset shapes: (), types: tf.int32>"
      ]
     },
     "execution_count": 18,
     "metadata": {},
     "output_type": "execute_result"
    }
   ],
   "source": [
    "dataset"
   ]
  },
  {
   "cell_type": "code",
   "execution_count": 25,
   "metadata": {},
   "outputs": [
    {
     "name": "stdout",
     "output_type": "stream",
     "text": [
      "tf.Tensor(0, shape=(), dtype=int32)\n",
      "tf.Tensor(1, shape=(), dtype=int32)\n",
      "tf.Tensor(2, shape=(), dtype=int32)\n"
     ]
    }
   ],
   "source": [
    "for item in dataset.take(3):\n",
    "    print(item)"
   ]
  },
  {
   "cell_type": "code",
   "execution_count": 62,
   "metadata": {
    "collapsed": true,
    "jupyter": {
     "outputs_hidden": true
    }
   },
   "outputs": [
    {
     "name": "stdout",
     "output_type": "stream",
     "text": [
      "item 0 from my_x: 1\n",
      "item 1 from my_x: 5\n",
      "item 2 from my_x: 6\n",
      "\n",
      "item 0 from my_y: 8\n",
      "item 1 from my_y: 7\n",
      "item 2 from my_y: 10\n",
      "\n",
      "item 0 from my_y: 8\n",
      "item 1 from my_y: 7\n",
      "item 2 from my_y: 10\n",
      "\n",
      "item 0 from my_z: 9\n",
      "item 1 from my_z: 4\n",
      "item 2 from my_z: 3\n",
      "item 3 from my_z: 2\n",
      "item 4 from my_z: 0\n",
      "\n",
      "item 0 from my_z: 9\n",
      "item 1 from my_z: 4\n",
      "item 2 from my_z: 3\n",
      "item 3 from my_z: 2\n",
      "item 4 from my_z: 0\n",
      "\n",
      "item 0 from my_y: 8\n",
      "item 1 from my_y: 7\n",
      "item 2 from my_y: 10\n",
      "\n",
      "item 0 from my_z: 9\n",
      "item 1 from my_z: 4\n",
      "item 2 from my_z: 3\n",
      "item 3 from my_z: 2\n",
      "item 4 from my_z: 0\n",
      "\n",
      "item 0 from my_y: 7\n",
      "item 1 from my_y: 8\n",
      "item 2 from my_y: 10\n",
      "\n",
      "item 0 from my_y: 7\n",
      "item 1 from my_y: 8\n",
      "item 2 from my_y: 10\n",
      "\n",
      "item 0 from my_y: 7\n",
      "item 1 from my_y: 10\n",
      "item 2 from my_y: 8\n",
      "\n",
      "item 0 from my_x: 1\n",
      "item 1 from my_x: 5\n",
      "item 2 from my_x: 6\n",
      "\n"
     ]
    }
   ],
   "source": [
    "dataset = tf.data.Dataset.from_tensor_slices(tf.range(11))\n",
    "dataset = dataset.shuffle(buffer_size=10000, seed=42, reshuffle_each_iteration=False)\n",
    "#dataset = dataset.shuffle(buffer_size=10000, seed=42, reshuffle_each_iteration=True)\n",
    "my_x = dataset.take(3)\n",
    "dataset = dataset.skip(3)\n",
    "my_y = dataset.take(3)#.shuffle(buffer_size=10000, seed=42, reshuffle_each_iteration=True)\n",
    "dataset = dataset.skip(3)\n",
    "my_z = dataset\n",
    "\n",
    "#my_y = my_y.shuffle(buffer_size=10000, reshuffle_each_iteration=True)\n",
    "my_y = my_y.shuffle(buffer_size=10000, seed=42, reshuffle_each_iteration=True)\n",
    "\n",
    "def print_dataset(xxx, name):\n",
    "    for i, item in xxx.enumerate():\n",
    "        print(f\"item {i} from {name}: {item}\")\n",
    "    print()\n",
    "        \n",
    "print_dataset(my_x, \"my_x\")\n",
    "print_dataset(my_y, \"my_y\")\n",
    "print_dataset(my_y, \"my_y\")\n",
    "print_dataset(my_z, \"my_z\")\n",
    "print_dataset(my_z, \"my_z\")\n",
    "print_dataset(my_y, \"my_y\")\n",
    "print_dataset(my_z, \"my_z\")\n",
    "print_dataset(my_y, \"my_y\")\n",
    "print_dataset(my_y, \"my_y\")\n",
    "print_dataset(my_y, \"my_y\")\n",
    "print_dataset(my_x, \"my_x\")\n"
   ]
  },
  {
   "cell_type": "code",
   "execution_count": null,
   "metadata": {},
   "outputs": [],
   "source": []
  }
 ],
 "metadata": {
  "kernelspec": {
   "display_name": "Python 3",
   "language": "python",
   "name": "python3"
  },
  "language_info": {
   "codemirror_mode": {
    "name": "ipython",
    "version": 3
   },
   "file_extension": ".py",
   "mimetype": "text/x-python",
   "name": "python",
   "nbconvert_exporter": "python",
   "pygments_lexer": "ipython3",
   "version": "3.7.6"
  }
 },
 "nbformat": 4,
 "nbformat_minor": 4
}
